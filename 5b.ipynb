{
 "cells": [
  {
   "cell_type": "code",
   "execution_count": 14,
   "id": "5b039759",
   "metadata": {},
   "outputs": [
    {
     "name": "stdout",
     "output_type": "stream",
     "text": [
      "you are teen_age\n"
     ]
    }
   ],
   "source": [
    "Age=20\n",
    "if Age<20:\n",
    "    print(\"you are teen_age\")\n",
    "elif Age==20:\n",
    "    print(\"you are teen_age\")\n",
    "else:\n",
    "    print(\"you are young_age\")"
   ]
  },
  {
   "cell_type": "code",
   "execution_count": 15,
   "id": "d419e481",
   "metadata": {},
   "outputs": [
    {
     "name": "stdout",
     "output_type": "stream",
     "text": [
      "you are young_age\n"
     ]
    }
   ],
   "source": [
    "Age=30\n",
    "if Age<20:\n",
    "    print(\"you are teen_age\")\n",
    "elif Age==20:\n",
    "    print(\"you are teen_age\")\n",
    "else:\n",
    "    print(\"you are young_age\")"
   ]
  },
  {
   "cell_type": "code",
   "execution_count": 16,
   "id": "28011362",
   "metadata": {},
   "outputs": [
    {
     "name": "stdout",
     "output_type": "stream",
     "text": [
      "you are teen_age\n"
     ]
    }
   ],
   "source": [
    "Age=10\n",
    "if Age<20:\n",
    "    print(\"you are teen_age\")\n",
    "elif Age==20:\n",
    "    print(\"you are teen_age\")\n",
    "else:\n",
    "    print(\"you are young_age\")"
   ]
  },
  {
   "cell_type": "code",
   "execution_count": 17,
   "id": "0640b731",
   "metadata": {},
   "outputs": [
    {
     "name": "stdout",
     "output_type": "stream",
     "text": [
      "you are young_age\n"
     ]
    }
   ],
   "source": [
    "Age=40\n",
    "if Age<20:\n",
    "    print(\"you are teen_age\")\n",
    "elif Age==20:\n",
    "    print(\"you are teen_age\")\n",
    "else:\n",
    "    print(\"you are young_age\")"
   ]
  },
  {
   "cell_type": "code",
   "execution_count": 18,
   "id": "3fa9f0e4",
   "metadata": {},
   "outputs": [
    {
     "name": "stdout",
     "output_type": "stream",
     "text": [
      "i am profitale\n"
     ]
    }
   ],
   "source": [
    "income=100\n",
    "if income>10:\n",
    "    print(\"i am profitale\")\n",
    "else:\n",
    "    print(\"i lost\")"
   ]
  },
  {
   "cell_type": "code",
   "execution_count": 19,
   "id": "11763e31",
   "metadata": {},
   "outputs": [
    {
     "name": "stdout",
     "output_type": "stream",
     "text": [
      "i lost\n"
     ]
    }
   ],
   "source": [
    "income=9\n",
    "if income>10:\n",
    "    print(\"i am profitale\")\n",
    "else:\n",
    "    print(\"i lost\")"
   ]
  },
  {
   "cell_type": "code",
   "execution_count": 20,
   "id": "06b05985",
   "metadata": {},
   "outputs": [
    {
     "name": "stdout",
     "output_type": "stream",
     "text": [
      "i am younger\n"
     ]
    }
   ],
   "source": [
    "your_age=19\n",
    "sister_age=20\n",
    "if your_age>sister_age:\n",
    "    print(\"i am elder\")\n",
    "else:\n",
    "    print(\"i am younger\")"
   ]
  },
  {
   "cell_type": "code",
   "execution_count": 21,
   "id": "ec8e587c",
   "metadata": {},
   "outputs": [
    {
     "name": "stdout",
     "output_type": "stream",
     "text": [
      "i am elder\n"
     ]
    }
   ],
   "source": [
    "your_age=23\n",
    "sister_age=20\n",
    "if your_age>sister_age:\n",
    "    print(\"i am elder\")\n",
    "else:\n",
    "    print(\"i am younger\")"
   ]
  },
  {
   "cell_type": "code",
   "execution_count": 22,
   "id": "3686bf01",
   "metadata": {},
   "outputs": [
    {
     "name": "stdout",
     "output_type": "stream",
     "text": [
      "30% discount\n"
     ]
    }
   ],
   "source": [
    "purchase_amount=120\n",
    "if purchase_amount>100:\n",
    "    print(\"30% discount\")\n",
    "elif purchase_amount<50:\n",
    "    print(\"10% discount\")\n",
    "else:\n",
    "    print(\"20% discount\")"
   ]
  },
  {
   "cell_type": "code",
   "execution_count": 23,
   "id": "af859a0f",
   "metadata": {},
   "outputs": [
    {
     "name": "stdout",
     "output_type": "stream",
     "text": [
      "10% discount\n"
     ]
    }
   ],
   "source": [
    "purchase_amount=20\n",
    "if purchase_amount>100:\n",
    "    print(\"30% discount\")\n",
    "elif purchase_amount<50:\n",
    "    print(\"10% discount\")\n",
    "else:\n",
    "    print(\"20% discount\")"
   ]
  },
  {
   "cell_type": "code",
   "execution_count": 24,
   "id": "4dc260ab",
   "metadata": {},
   "outputs": [
    {
     "name": "stdout",
     "output_type": "stream",
     "text": [
      "20% discount\n"
     ]
    }
   ],
   "source": [
    "purchase_amount=60\n",
    "if purchase_amount>100:\n",
    "    print(\"30% discount\")\n",
    "elif purchase_amount<50:\n",
    "    print(\"10% discount\")\n",
    "else:\n",
    "    print(\"20% discount\")"
   ]
  },
  {
   "cell_type": "code",
   "execution_count": 29,
   "id": "7c25cabd",
   "metadata": {},
   "outputs": [
    {
     "name": "stdout",
     "output_type": "stream",
     "text": [
      "Balcony\n"
     ]
    }
   ],
   "source": [
    "Price=140\n",
    "if Price==140:\n",
    "    print(\"Balcony\")\n",
    "elif Price==50:\n",
    "    print(\"chair\")\n",
    "elif Price==100:\n",
    "    print(\"bench\")"
   ]
  },
  {
   "cell_type": "code",
   "execution_count": 30,
   "id": "e4225896",
   "metadata": {},
   "outputs": [
    {
     "name": "stdout",
     "output_type": "stream",
     "text": [
      "chair\n"
     ]
    }
   ],
   "source": [
    "Price=50\n",
    "if Price==140:\n",
    "    print(\"Balcony\")\n",
    "elif Price==50:\n",
    "    print(\"chair\")\n",
    "elif Price==100:\n",
    "    print(\"bench\")"
   ]
  },
  {
   "cell_type": "code",
   "execution_count": 31,
   "id": "44111517",
   "metadata": {},
   "outputs": [
    {
     "name": "stdout",
     "output_type": "stream",
     "text": [
      "bench\n"
     ]
    }
   ],
   "source": [
    "Price=100\n",
    "if Price==140:\n",
    "    print(\"Balcony\")\n",
    "elif Price==50:\n",
    "    print(\"chair\")\n",
    "elif Price==100:\n",
    "    print(\"bench\")"
   ]
  },
  {
   "cell_type": "code",
   "execution_count": 73,
   "id": "17c458e0",
   "metadata": {},
   "outputs": [
    {
     "name": "stdout",
     "output_type": "stream",
     "text": [
      "car lorry van zeep\n"
     ]
    }
   ],
   "source": [
    "vehicle_type =\"four wheeler\"\n",
    "if vehicle_type==\"two wheeler\":\n",
    "    print(\"bike and scooty\")\n",
    "elif vehicle_type==\"four wheeler\":\n",
    "    print(\"car\",\"lorry\",\"van\",\"zeep\")"
   ]
  },
  {
   "cell_type": "code",
   "execution_count": 72,
   "id": "7a8d3cd4",
   "metadata": {},
   "outputs": [
    {
     "name": "stdout",
     "output_type": "stream",
     "text": [
      "not available\n"
     ]
    }
   ],
   "source": [
    "vehicle_type=\"three wheeler\"\n",
    "if vehicle_type==\"two wheeler\":\n",
    "    print(\"bike and scooty\")\n",
    "elif vehicle_type==\"four wheeler\":\n",
    "    print(\"car\",\"lorry\",\"van\",\"zeep\")\n",
    "else:\n",
    "    print(\"not available\")"
   ]
  },
  {
   "cell_type": "code",
   "execution_count": 74,
   "id": "7fdd6ad4",
   "metadata": {},
   "outputs": [
    {
     "name": "stdout",
     "output_type": "stream",
     "text": [
      "bike and scooty\n"
     ]
    }
   ],
   "source": [
    "vehicle_type =\"two wheeler\"\n",
    "if vehicle_type==\"two wheeler\":\n",
    "    print(\"bike and scooty\")\n",
    "elif vehicle_type==\"four wheeler\":\n",
    "    print(\"car\",\"lorry\",\"van\",\"zeep\")"
   ]
  },
  {
   "cell_type": "code",
   "execution_count": 3,
   "id": "8c80fafe",
   "metadata": {},
   "outputs": [
    {
     "name": "stdout",
     "output_type": "stream",
     "text": [
      "weekday\n"
     ]
    }
   ],
   "source": [
    "today=\"friday\"\n",
    "if today==\"monday\":\n",
    "    print(\"weekday\")\n",
    "elif today==\"tuesday\":\n",
    "    print(\"weekday\")\n",
    "elif today==\"wednesday\":\n",
    "    print(\"weekday\")\n",
    "elif today==\"thursday\":\n",
    "    print(\"weekday\")\n",
    "elif today==\"friday\":\n",
    "    print(\"weekday\")    \n",
    "else:\n",
    "    print(\"weekend\")"
   ]
  },
  {
   "cell_type": "code",
   "execution_count": 12,
   "id": "43f49eb7",
   "metadata": {},
   "outputs": [],
   "source": [
    "day=\"tuesday\""
   ]
  }
 ],
 "metadata": {
  "kernelspec": {
   "display_name": "Python 3 (ipykernel)",
   "language": "python",
   "name": "python3"
  },
  "language_info": {
   "codemirror_mode": {
    "name": "ipython",
    "version": 3
   },
   "file_extension": ".py",
   "mimetype": "text/x-python",
   "name": "python",
   "nbconvert_exporter": "python",
   "pygments_lexer": "ipython3",
   "version": "3.10.9"
  }
 },
 "nbformat": 4,
 "nbformat_minor": 5
}
